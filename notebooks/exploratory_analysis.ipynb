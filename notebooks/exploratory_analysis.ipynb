{
 "cells": [
  {
   "cell_type": "code",
   "execution_count": 2,
   "metadata": {},
   "outputs": [
    {
     "data": {
      "text/html": [
       "<div>\n",
       "<style scoped>\n",
       "    .dataframe tbody tr th:only-of-type {\n",
       "        vertical-align: middle;\n",
       "    }\n",
       "\n",
       "    .dataframe tbody tr th {\n",
       "        vertical-align: top;\n",
       "    }\n",
       "\n",
       "    .dataframe thead th {\n",
       "        text-align: right;\n",
       "    }\n",
       "</style>\n",
       "<table border=\"1\" class=\"dataframe\">\n",
       "  <thead>\n",
       "    <tr style=\"text-align: right;\">\n",
       "      <th></th>\n",
       "      <th>age</th>\n",
       "      <th>gender</th>\n",
       "      <th>bmi</th>\n",
       "      <th>blood_pressure</th>\n",
       "      <th>cholesterol</th>\n",
       "      <th>heart_rate</th>\n",
       "      <th>family_history</th>\n",
       "      <th>diabetes_risk</th>\n",
       "      <th>smoking</th>\n",
       "      <th>exercise</th>\n",
       "      <th>diet_score</th>\n",
       "      <th>heart_disease</th>\n",
       "    </tr>\n",
       "  </thead>\n",
       "  <tbody>\n",
       "    <tr>\n",
       "      <th>0</th>\n",
       "      <td>71</td>\n",
       "      <td>1</td>\n",
       "      <td>25.096030</td>\n",
       "      <td>110.746013</td>\n",
       "      <td>126.828192</td>\n",
       "      <td>77</td>\n",
       "      <td>1</td>\n",
       "      <td>2.838285</td>\n",
       "      <td>0</td>\n",
       "      <td>4</td>\n",
       "      <td>8.331999</td>\n",
       "      <td>0</td>\n",
       "    </tr>\n",
       "    <tr>\n",
       "      <th>1</th>\n",
       "      <td>34</td>\n",
       "      <td>1</td>\n",
       "      <td>18.051852</td>\n",
       "      <td>119.614214</td>\n",
       "      <td>228.162350</td>\n",
       "      <td>78</td>\n",
       "      <td>0</td>\n",
       "      <td>3.537308</td>\n",
       "      <td>0</td>\n",
       "      <td>4</td>\n",
       "      <td>7.206537</td>\n",
       "      <td>0</td>\n",
       "    </tr>\n",
       "    <tr>\n",
       "      <th>2</th>\n",
       "      <td>80</td>\n",
       "      <td>0</td>\n",
       "      <td>23.083926</td>\n",
       "      <td>101.846073</td>\n",
       "      <td>230.315009</td>\n",
       "      <td>97</td>\n",
       "      <td>0</td>\n",
       "      <td>7.673165</td>\n",
       "      <td>1</td>\n",
       "      <td>3</td>\n",
       "      <td>7.191206</td>\n",
       "      <td>1</td>\n",
       "    </tr>\n",
       "    <tr>\n",
       "      <th>3</th>\n",
       "      <td>40</td>\n",
       "      <td>1</td>\n",
       "      <td>27.708688</td>\n",
       "      <td>141.423513</td>\n",
       "      <td>264.831938</td>\n",
       "      <td>88</td>\n",
       "      <td>1</td>\n",
       "      <td>1.546587</td>\n",
       "      <td>0</td>\n",
       "      <td>6</td>\n",
       "      <td>5.770410</td>\n",
       "      <td>0</td>\n",
       "    </tr>\n",
       "    <tr>\n",
       "      <th>4</th>\n",
       "      <td>43</td>\n",
       "      <td>0</td>\n",
       "      <td>23.901775</td>\n",
       "      <td>94.161934</td>\n",
       "      <td>202.425733</td>\n",
       "      <td>74</td>\n",
       "      <td>1</td>\n",
       "      <td>7.308705</td>\n",
       "      <td>0</td>\n",
       "      <td>6</td>\n",
       "      <td>6.889251</td>\n",
       "      <td>0</td>\n",
       "    </tr>\n",
       "  </tbody>\n",
       "</table>\n",
       "</div>"
      ],
      "text/plain": [
       "   age  gender        bmi  blood_pressure  cholesterol  heart_rate  \\\n",
       "0   71       1  25.096030      110.746013   126.828192          77   \n",
       "1   34       1  18.051852      119.614214   228.162350          78   \n",
       "2   80       0  23.083926      101.846073   230.315009          97   \n",
       "3   40       1  27.708688      141.423513   264.831938          88   \n",
       "4   43       0  23.901775       94.161934   202.425733          74   \n",
       "\n",
       "   family_history  diabetes_risk  smoking  exercise  diet_score  heart_disease  \n",
       "0               1       2.838285        0         4    8.331999              0  \n",
       "1               0       3.537308        0         4    7.206537              0  \n",
       "2               0       7.673165        1         3    7.191206              1  \n",
       "3               1       1.546587        0         6    5.770410              0  \n",
       "4               1       7.308705        0         6    6.889251              0  "
      ]
     },
     "execution_count": 2,
     "metadata": {},
     "output_type": "execute_result"
    }
   ],
   "source": [
    "import pandas as pd\n",
    "\n",
    "df = pd.read_csv('../data/raw_data.csv')\n",
    "df.head()"
   ]
  },
  {
   "cell_type": "code",
   "execution_count": 4,
   "metadata": {},
   "outputs": [
    {
     "data": {
      "text/plain": [
       "(5000, 12)"
      ]
     },
     "execution_count": 4,
     "metadata": {},
     "output_type": "execute_result"
    }
   ],
   "source": [
    "df.shape"
   ]
  }
 ],
 "metadata": {
  "kernelspec": {
   "display_name": "dpp-env",
   "language": "python",
   "name": "python3"
  },
  "language_info": {
   "codemirror_mode": {
    "name": "ipython",
    "version": 3
   },
   "file_extension": ".py",
   "mimetype": "text/x-python",
   "name": "python",
   "nbconvert_exporter": "python",
   "pygments_lexer": "ipython3",
   "version": "3.11.11"
  }
 },
 "nbformat": 4,
 "nbformat_minor": 2
}
